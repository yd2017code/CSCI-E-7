{
 "cells": [
  {
   "cell_type": "markdown",
   "metadata": {},
   "source": [
    "## Yoana D. - CSCI-E7 - 2017- Graduate project \n",
    "- The script will take a list of 12 accesion numbers for homologous proteins, \n",
    "    - obtain the fasta format text file of all the sequences, \n",
    "    - run sequence alignment by the MAFFT alignment software. \n",
    "    - output color coded alignment/visualization with ESPript\n",
    "    - obtain any available pdb IDs for 3D structures from the Protein Data Bank. \n",
    "- The final output file will represent color-coded alignment of homologous protein sequences and a text file with:\n",
    "    - pdb-ID numbers of available 3D structures for these proteins or homologous proteins\n",
    "    - percent_identity\n",
    "    - title of publications \n",
    "    "
   ]
  },
  {
   "cell_type": "markdown",
   "metadata": {},
   "source": [
    "## Input / output data:\n",
    "- input 1: list of accession numbers\n",
    "- output file 1: sequences.fasta      (protein sequences in fasta format)\n",
    "- output file 2: pdb_info.txt         (pdb information for each protein)\n",
    "- output file 3: seq_alignment.fasta  (sequence alignment in fasta format)\n",
    "- input 2: espript.inp                (input script to run ESPript software)\n",
    "- output file 4: alignment.pdf        (colored version of sequence alignemnt)"
   ]
  },
  {
   "cell_type": "code",
   "execution_count": 1,
   "metadata": {
    "collapsed": true
   },
   "outputs": [],
   "source": [
    "#accession numbers for CENP-A homologous proteins\n",
    "#obtained from blast search: https://blast.ncbi.nlm.nih.gov/Blast.cgi\n",
    "\n",
    "cenp_a_an = ['NP_001800','XP_004029016.1','XP_003308962.1','XP_003270664 ',\\\n",
    "             'XP_001087306', 'XP_011239001.1', 'EHB18906', 'KFO23359.1',\\\n",
    "             'NP_012875', 'KTB18012.1', 'XP_452757', 'NP_983029']"
   ]
  },
  {
   "cell_type": "markdown",
   "metadata": {},
   "source": [
    "## Steps 1: parse the list of numbers and write sequences into a fasta file\n",
    "- input 1: list of protein accession numbers\n",
    "- output file 1: sequences.fasta"
   ]
  },
  {
   "cell_type": "code",
   "execution_count": 2,
   "metadata": {
    "collapsed": true
   },
   "outputs": [],
   "source": [
    "from Bio import Entrez\n",
    "from Bio import SeqIO\n",
    "\n",
    "#provide your email as a string\n",
    "Entrez.email = \"dimitrova@crystal.harvard.edu\"\n",
    "\n",
    "#Step 1: save protein sequences in fasta file\n",
    "\n",
    "for anumber in cenp_a_an:\n",
    "    \n",
    "    #specify from what db, what id, what type, what to return\n",
    "    handle = Entrez.efetch(db=\"protein\", id = anumber, retmod='text', rettype='fasta')\n",
    "    \n",
    "    #Create a record \n",
    "    record = SeqIO.read(handle, \"fasta\")\n",
    "    handle.close()\n",
    "    protein_seq = ('>'+ record.description + '\\n' + record.seq + '\\n')\n",
    "    \n",
    "    with open(\"sequences.fasta\", \"a\") as out:      \n",
    "        out.write(str(protein_seq))"
   ]
  },
  {
   "cell_type": "markdown",
   "metadata": {},
   "source": [
    "## Step 2: search the Protein Data Bank for pdb files \n",
    "- input list of protein accession numbers\n",
    "- output file2: pdb_info.txt"
   ]
  },
  {
   "cell_type": "code",
   "execution_count": 6,
   "metadata": {
    "collapsed": false
   },
   "outputs": [
    {
     "name": "stderr",
     "output_type": "stream",
     "text": [
      "@> Blast searching NCBI PDB database for \"MGPRR...\"\n",
      "@> Blast search completed in 3.5s.\n",
      "@> Blast searching NCBI PDB database for \"MGPRR...\"\n",
      "@> Blast search completed in 11.1s.\n",
      "@> Blast searching NCBI PDB database for \"MGPRR...\"\n",
      "@> Blast search completed in 6.8s.\n",
      "@> Blast searching NCBI PDB database for \"MGPRR...\"\n",
      "@> Blast search completed in 3.6s.\n",
      "@> Blast searching NCBI PDB database for \"MGPRR...\"\n",
      "@> Blast search completed in 5.5s.\n",
      "@> Blast searching NCBI PDB database for \"MGPRR...\"\n",
      "@> Blast search completed in 8.7s.\n",
      "@> Blast searching NCBI PDB database for \"MDVHS...\"\n",
      "@> Blast search completed in 6.1s.\n",
      "@> Blast searching NCBI PDB database for \"MAGMG...\"\n",
      "@> Blast search completed in 4.5s.\n",
      "@> Blast searching NCBI PDB database for \"MSSKQ...\"\n",
      "@> Blast search completed in 4.8s.\n",
      "@> Blast searching NCBI PDB database for \"MSTRQ...\"\n",
      "@> Blast search completed in 5.1s.\n",
      "@> Blast searching NCBI PDB database for \"MEQSI...\"\n",
      "@> Blast search completed in 6.4s.\n",
      "@> Blast searching NCBI PDB database for \"MEQSM...\"\n",
      "@> Blast search completed in 6.0s.\n"
     ]
    }
   ],
   "source": [
    "from prody import blastPDB\n",
    "\n",
    "#use the same for loop as above to fetch the sequences for the PDB blast\n",
    "\n",
    "for anumber in cenp_a_an:\n",
    "    handle = Entrez.efetch(db=\"protein\", id = anumber, retmod='text', rettype='fasta')\n",
    "    record = SeqIO.read(handle, \"fasta\")\n",
    "    handle.close()\n",
    "    \n",
    "#Step 2: use each sequence to search the pdb for structures\n",
    "    blast_record = blastPDB(str(record.seq))\n",
    "    \n",
    "    # Best matches from Blast and other pdb hits\n",
    "    best = blast_record.getBest()\n",
    "    hits = blast_record.getHits()\n",
    "    \n",
    "    #write the output in a text file\n",
    "    with open(\"pdb_info.txt\", \"a\") as out: \n",
    "        out.write('\\n' + \"title: {0}, pdb_id: {1}, percent_identity: {2}\"\\\n",
    "                  .format(best['title']+'\\n',best['pdb_id']+'\\n', best['percent_identity']))\n",
    "        out.write('\\n' + \"all_hits: {}\".format((list(hits))) + '')\n",
    "      \n",
    "        "
   ]
  },
  {
   "cell_type": "markdown",
   "metadata": {},
   "source": [
    "## Step 3: sequence alignment by MAFFT\n",
    "- input file: sequences.fasta\n",
    "- output file: seq_alignment.fasta"
   ]
  },
  {
   "cell_type": "code",
   "execution_count": 66,
   "metadata": {
    "collapsed": false
   },
   "outputs": [],
   "source": [
    "from Bio.Align.Applications import MafftCommandline as mftc\n",
    "from Bio import AlignIO\n",
    "\n",
    "#specify the executable location for mafft software\n",
    "mafft_exe = \"/usr/local/bin/mafft\"\n",
    "#directory of your input file\n",
    "in_file = \"/Users/Yoana/Dropbox_SBGrid/python/graduate_project/sequences.fasta\"\n",
    "mafft_cline = mftc(mafft_exe, input=in_file)\n",
    "\n",
    "#mafft writes the alignment in stdout\n",
    "stdout, stderr = mafft_cline()\n",
    "\n",
    "#save data from stdout in seq_alignment.fasta\n",
    "with open(\"seq_alignment.fasta\", \"w\") as handle:\n",
    "    handle.write(stdout)\n",
    "\n",
    "align = AlignIO.read(\"seq_alignment.fasta\", \"fasta\")"
   ]
  },
  {
   "cell_type": "markdown",
   "metadata": {},
   "source": [
    "## Step 4: creating a color coded sequence alignment file\n",
    "### Two options to visualize your sequence alignment:\n",
    "- Jalview: http://www.jalview.org/download \n",
    "- ESPript: http://espript.ibcp.fr/ESPript/ESPript/index.php"
   ]
  },
  {
   "cell_type": "markdown",
   "metadata": {},
   "source": [
    "#### Running ESPript\n",
    "input file: espript.inp \n",
    "\n",
    "go_espript.csh containing:\n",
    "#the executable location of the espript software (must be a Linux maxine):\n",
    "- /Users/.../software/espript/ESPript_linux_x86-64 < espript.inp\n",
    "\n",
    "#espript writes a ps file and converts to final pdf output file:\n",
    "- ps2pdf espript.ps cse4_final_alignment.pdf\n",
    "\n",
    "#Open a terminal and run: \n",
    "- source go_espript.csh\n"
   ]
  },
  {
   "cell_type": "markdown",
   "metadata": {},
   "source": [
    "#### Helpful resources for the used modules:\n",
    "- Biopython - (MAFFT)\n",
    "http://biopython.org/DIST/docs/api/Bio.Align.Applications._Mafft.MafftCommandline-class.html\n",
    "- Biopython - (Entrez)\n",
    "http://biopython.org/DIST/docs/tutorial/Tutorial.html\n",
    "https://www.ncbi.nlm.nih.gov/books/NBK25499/#chapter4.EFetch\n",
    "- Biopython - (SeqIO)\n",
    "http://biopython.org/wiki/SeqIO\n",
    "- ProDy - Protein Dynamics & sequence analysis\n",
    "http://prody.csb.pitt.edu/tutorials/structure_analysis/blastpdb.html\n",
    "- ESPript \n",
    "http://espript.ibcp.fr/ESPript/ESPript/esp_userguide.php\n",
    "- NCBI yourtube tutorials: \n",
    "https://www.youtube.com/results?search_query=ncbi"
   ]
  }
 ],
 "metadata": {
  "anaconda-cloud": {},
  "kernelspec": {
   "display_name": "Python [conda root]",
   "language": "python",
   "name": "conda-root-py"
  },
  "language_info": {
   "codemirror_mode": {
    "name": "ipython",
    "version": 3
   },
   "file_extension": ".py",
   "mimetype": "text/x-python",
   "name": "python",
   "nbconvert_exporter": "python",
   "pygments_lexer": "ipython3",
   "version": "3.5.2"
  }
 },
 "nbformat": 4,
 "nbformat_minor": 2
}
